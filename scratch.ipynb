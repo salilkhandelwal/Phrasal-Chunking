{
 "cells": [
  {
   "cell_type": "code",
   "execution_count": 15,
   "metadata": {},
   "outputs": [],
   "source": [
    "from chunker import *"
   ]
  },
  {
   "cell_type": "code",
   "execution_count": 3,
   "metadata": {},
   "outputs": [
    {
     "name": "stdout",
     "output_type": "stream",
     "text": [
      "OrderedDict([('0', 0), ('1', 1), ('2', 2), ('3', 3), ('4', 4), ('5', 5), ('6', 6), ('7', 7), ('8', 8), ('9', 9), ('a', 10), ('b', 11), ('c', 12), ('d', 13), ('e', 14), ('f', 15), ('g', 16), ('h', 17), ('i', 18), ('j', 19), ('k', 20), ('l', 21), ('m', 22), ('n', 23), ('o', 24), ('p', 25), ('q', 26), ('r', 27), ('s', 28), ('t', 29), ('u', 30), ('v', 31), ('w', 32), ('x', 33), ('y', 34), ('z', 35), ('A', 36), ('B', 37), ('C', 38), ('D', 39), ('E', 40), ('F', 41), ('G', 42), ('H', 43), ('I', 44), ('J', 45), ('K', 46), ('L', 47), ('M', 48), ('N', 49), ('O', 50), ('P', 51), ('Q', 52), ('R', 53), ('S', 54), ('T', 55), ('U', 56), ('V', 57), ('W', 58), ('X', 59), ('Y', 60), ('Z', 61), ('!', 62), ('\"', 63), ('#', 64), ('$', 65), ('%', 66), ('&', 67), (\"'\", 68), ('(', 69), (')', 70), ('*', 71), ('+', 72), (',', 73), ('-', 74), ('.', 75), ('/', 76), (':', 77), (';', 78), ('<', 79), ('=', 80), ('>', 81), ('?', 82), ('@', 83), ('[', 84), ('\\\\', 85), (']', 86), ('^', 87), ('_', 88), ('`', 89), ('{', 90), ('|', 91), ('}', 92), ('~', 93), (' ', 94), ('\\t', 95), ('\\n', 96), ('\\r', 97), ('\\x0b', 98), ('\\x0c', 99)])\n"
     ]
    }
   ],
   "source": [
    "import string\n",
    "\n",
    "from collections import OrderedDict\n",
    "\n",
    "char_idx = OrderedDict()\n",
    "for c in string.printable:\n",
    "    if c not in char_idx:\n",
    "        char_idx[c] = len(char_idx) \n",
    "        \n",
    "print(char_idx)"
   ]
  },
  {
   "cell_type": "code",
   "execution_count": 13,
   "metadata": {},
   "outputs": [
    {
     "data": {
      "text/plain": [
       "[53, 36, 41, 36, 60]"
      ]
     },
     "execution_count": 13,
     "metadata": {},
     "output_type": "execute_result"
    }
   ],
   "source": [
    "[char_idx[c] if c in char_idx else 100 for c in \"RAFAY\"]"
   ]
  },
  {
   "cell_type": "code",
   "execution_count": 21,
   "metadata": {},
   "outputs": [
    {
     "name": "stdout",
     "output_type": "stream",
     "text": [
      "torch.Size([1, 2])\n",
      "torch.Size([2, 2])\n",
      "tensor([[3., 6.]])\n"
     ]
    },
    {
     "data": {
      "text/plain": [
       "torch.Size([2])"
      ]
     },
     "execution_count": 21,
     "metadata": {},
     "output_type": "execute_result"
    }
   ],
   "source": [
    "a = torch.FloatTensor([1, 2]).reshape(1, 2)\n",
    "b = torch.FloatTensor([[1, 2], [1, 2]])\n",
    "print(a.shape)\n",
    "print(b.shape)\n",
    "print(torch.mm(a, b))\n",
    "torch.mm(a, b)[0].shape"
   ]
  }
 ],
 "metadata": {
  "kernelspec": {
   "display_name": "Python 3",
   "language": "python",
   "name": "python3"
  },
  "language_info": {
   "codemirror_mode": {
    "name": "ipython",
    "version": 3
   },
   "file_extension": ".py",
   "mimetype": "text/x-python",
   "name": "python",
   "nbconvert_exporter": "python",
   "pygments_lexer": "ipython3",
   "version": "3.6.9"
  }
 },
 "nbformat": 4,
 "nbformat_minor": 2
}
